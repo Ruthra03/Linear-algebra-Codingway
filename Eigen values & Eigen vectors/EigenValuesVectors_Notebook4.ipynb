{
  "nbformat": 4,
  "nbformat_minor": 0,
  "metadata": {
    "colab": {
      "provenance": []
    },
    "kernelspec": {
      "name": "python3",
      "display_name": "Python 3"
    },
    "language_info": {
      "name": "python"
    }
  },
  "cells": [
    {
      "cell_type": "markdown",
      "source": [
        "##Linear algebric equation (for given question)\n",
        "x1 = x3 + 1/2 * x4\n",
        "\n",
        "x2 = 1/3 * x1\n",
        "\n",
        "x3 = 1/3 * x1 + 1/2 * x2 + 1/2 * x4\n",
        "\n",
        "x4 = 1/3 * x1 + 1/2 * x2"
      ],
      "metadata": {
        "id": "YU7wWpddJQNS"
      }
    },
    {
      "cell_type": "markdown",
      "source": [
        "#Matrix A\n",
        "Each row represents a page and each column represents a link to another page"
      ],
      "metadata": {
        "id": "yMFMzkmuKJW5"
      }
    },
    {
      "cell_type": "code",
      "source": [
        "import numpy as np\n",
        "A = np.array([[0, 0, 1, 1/2],\n",
        "              [1/3, 0, 0, 0],\n",
        "              [1/3, 1/2, 0, 1/2],\n",
        "              [1/3, 1/2, 0, 0]])"
      ],
      "metadata": {
        "id": "YpYl9HwgJoAy"
      },
      "execution_count": 11,
      "outputs": []
    },
    {
      "cell_type": "code",
      "source": [
        "def eigen_values_vectors(A):\n",
        "    # Calculate eigenvalues and eigenvectors\n",
        "    eigenvalues, eigenvectors = np.linalg.eig(A)\n",
        "\n",
        "    eig_matrix = np.column_stack(eigenvectors) # Concatenate eigenvectors into a matrix\n",
        "    print(eig_matrix)\n",
        "\n",
        "    index = np.argmax(np.abs(eigenvalues)) # Calculate the absolute value of each element and return the index of max element\n",
        "    return np.real(eig_matrix[index]) # Return the real part of eigen vetors"
      ],
      "metadata": {
        "id": "txg9V4ZgMduC"
      },
      "execution_count": 37,
      "outputs": []
    },
    {
      "cell_type": "code",
      "source": [
        "pagerank = eigen_values_vectors(A)\n",
        "print(\"\\nPage rank:\")\n",
        "print(pagerank)"
      ],
      "metadata": {
        "colab": {
          "base_uri": "https://localhost:8080/"
        },
        "id": "g1QSTKEMO-ot",
        "outputId": "5fc00007-815a-4bf0-ed8b-b28c63cd6aaf"
      },
      "execution_count": 38,
      "outputs": [
        {
          "output_type": "stream",
          "name": "stdout",
          "text": [
            "[[ 0.72101012+0.j          0.24033671+0.j          0.54075759+0.j\n",
            "   0.36050506+0.j        ]\n",
            " [-0.75521571+0.j          0.3036721 +0.34607247j  0.09315321-0.2746779j\n",
            "   0.3583904 -0.07139457j]\n",
            " [-0.75521571-0.j          0.3036721 -0.34607247j  0.09315321+0.2746779j\n",
            "   0.3583904 +0.07139457j]\n",
            " [ 0.50648562+0.j         -0.60565568+0.j         -0.38153917+0.j\n",
            "   0.48070923+0.j        ]]\n",
            "\n",
            "Page rank:\n",
            "[0.72101012 0.24033671 0.54075759 0.36050506]\n"
          ]
        }
      ]
    },
    {
      "cell_type": "markdown",
      "source": [
        "##Scaling the eigen vectors"
      ],
      "metadata": {
        "id": "WEswu0_iRwts"
      }
    },
    {
      "cell_type": "code",
      "source": [
        "pagerank = pagerank / np.sum(pagerank)\n",
        "print(pagerank)"
      ],
      "metadata": {
        "colab": {
          "base_uri": "https://localhost:8080/"
        },
        "id": "TjRxHCa7PBfL",
        "outputId": "ace1587f-a52a-4822-9706-71840d5434ca"
      },
      "execution_count": 39,
      "outputs": [
        {
          "output_type": "stream",
          "name": "stdout",
          "text": [
            "[0.38709677 0.12903226 0.29032258 0.19354839]\n"
          ]
        }
      ]
    },
    {
      "cell_type": "code",
      "source": [
        "print(\"Importance of each page:\")\n",
        "for i in range(len(pagerank)):\n",
        "  print(f'Page {i+1}:{pagerank[i]}')"
      ],
      "metadata": {
        "colab": {
          "base_uri": "https://localhost:8080/"
        },
        "id": "UgBkNBB-RcnP",
        "outputId": "31a62e2d-34e3-4e09-f59d-85120b80cdf6"
      },
      "execution_count": 40,
      "outputs": [
        {
          "output_type": "stream",
          "name": "stdout",
          "text": [
            "Importance of each page:\n",
            "Page 1:0.3870967741935484\n",
            "Page 2:0.12903225806451615\n",
            "Page 3:0.29032258064516114\n",
            "Page 4:0.19354838709677427\n"
          ]
        }
      ]
    },
    {
      "cell_type": "code",
      "source": [],
      "metadata": {
        "id": "hMtl4qiQTcS2"
      },
      "execution_count": null,
      "outputs": []
    }
  ]
}