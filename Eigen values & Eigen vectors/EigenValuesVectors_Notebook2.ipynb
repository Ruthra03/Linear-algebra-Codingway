{
  "nbformat": 4,
  "nbformat_minor": 0,
  "metadata": {
    "colab": {
      "provenance": []
    },
    "kernelspec": {
      "name": "python3",
      "display_name": "Python 3"
    },
    "language_info": {
      "name": "python"
    }
  },
  "cells": [
    {
      "cell_type": "code",
      "source": [
        "import numpy as np\n",
        "import sympy # To find RREF"
      ],
      "metadata": {
        "id": "3yiJdEj0EV9u"
      },
      "execution_count": 12,
      "outputs": []
    },
    {
      "cell_type": "code",
      "source": [
        "# Define the matrix A\n",
        "A = np.array([[2, 1, 0], [1, 3, -1], [0, -1, 4]])"
      ],
      "metadata": {
        "id": "XlGujlmBEkUy"
      },
      "execution_count": 13,
      "outputs": []
    },
    {
      "cell_type": "code",
      "source": [
        "# Calculate eigenvalues and eigenvectors\n",
        "eigenvalues, eigenvectors = np.linalg.eig(A)\n",
        "print(eigenvalues)\n",
        "print(eigenvectors)"
      ],
      "metadata": {
        "colab": {
          "base_uri": "https://localhost:8080/"
        },
        "id": "OjV43lkJEkM2",
        "outputId": "a3f82ef5-6e5a-4da7-c0b5-8f484b00139d"
      },
      "execution_count": 14,
      "outputs": [
        {
          "output_type": "stream",
          "name": "stdout",
          "text": [
            "[1.26794919 3.         4.73205081]\n",
            "[[-0.78867513 -0.57735027 -0.21132487]\n",
            " [ 0.57735027 -0.57735027 -0.57735027]\n",
            " [ 0.21132487 -0.57735027  0.78867513]]\n"
          ]
        }
      ]
    },
    {
      "cell_type": "code",
      "source": [
        "# Separate eigenvectors corresponding to distinct eigenvalues\n",
        "distinct_eigenvalues = np.unique(eigenvalues)\n",
        "print(distinct_eigenvalues)"
      ],
      "metadata": {
        "colab": {
          "base_uri": "https://localhost:8080/"
        },
        "id": "yRKRVeMDEj-A",
        "outputId": "ddf8b6ae-f075-4f25-f08e-6c0ce84cd5a1"
      },
      "execution_count": 16,
      "outputs": [
        {
          "output_type": "stream",
          "name": "stdout",
          "text": [
            "[1.26794919 3.         4.73205081]\n"
          ]
        }
      ]
    },
    {
      "cell_type": "code",
      "source": [
        "if len(distinct_eigenvalues) != len(eigenvalues):\n",
        "    print(\"Eigenvalues are not distinct.\")\n",
        "else:\n",
        "    print(\"Eigenvalues are distinct.\")\n",
        "    # Form matrix with eigenvectors corresponding to distinct eigenvalues\n",
        "    eigenvectors_matrix = np.column_stack([eigenvectors[:,i] for i in range(len(eigenvalues))])\n",
        "\n",
        "    # Convert matrix to RREF\n",
        "    rref, pivot = sympy.Matrix(eigenvectors_matrix).rref()\n",
        "    # Check if RREF has full rank\n",
        "    if len(pivot) == len(distinct_eigenvalues):\n",
        "        print(\"Eigenvectors corresponding to distinct eigenvalues are independent.\")\n",
        "    else:\n",
        "        print(\"Eigenvectors corresponding to distinct eigenvalues are dependent.\")"
      ],
      "metadata": {
        "colab": {
          "base_uri": "https://localhost:8080/"
        },
        "id": "DcXnOKONEjyT",
        "outputId": "f5d7681e-4a43-418b-f8a4-ef3f0eb569b6"
      },
      "execution_count": 26,
      "outputs": [
        {
          "output_type": "stream",
          "name": "stdout",
          "text": [
            "Eigenvalues are distinct.\n",
            "Eigenvectors corresponding to distinct eigenvalues are independent.\n"
          ]
        }
      ]
    },
    {
      "cell_type": "code",
      "source": [],
      "metadata": {
        "id": "R9HZd587KhDC"
      },
      "execution_count": null,
      "outputs": []
    }
  ]
}