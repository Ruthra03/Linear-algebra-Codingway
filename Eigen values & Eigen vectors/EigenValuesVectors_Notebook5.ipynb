{
  "nbformat": 4,
  "nbformat_minor": 0,
  "metadata": {
    "colab": {
      "provenance": []
    },
    "kernelspec": {
      "name": "python3",
      "display_name": "Python 3"
    },
    "language_info": {
      "name": "python"
    }
  },
  "cells": [
    {
      "cell_type": "markdown",
      "source": [
        "In the probability matrix (P), the columns represent the\n",
        "probability of landing on a certain page (represented as rows) given that you\n",
        "are on a certain page (column). For example, the probability of landing on\n",
        "Page 2 given that you are on Page 1 is .33333\n"
      ],
      "metadata": {
        "id": "rl-5-RvVXuNs"
      }
    },
    {
      "cell_type": "code",
      "execution_count": 32,
      "metadata": {
        "id": "tNC8RoVl9q-d"
      },
      "outputs": [],
      "source": [
        "import numpy as np\n",
        "# Probability matrix\n",
        "P = [[0, 0, 1, 0.5],\n",
        "              [1/3, 0, 0, 0],\n",
        "              [1/3, 0.5, 0, 0.5],\n",
        "              [1/3, 0.5, 0, 0]]\n",
        "P = np.array(P)"
      ]
    },
    {
      "cell_type": "code",
      "source": [
        "def page_transition(P, x, n):\n",
        "  for i in range(n):\n",
        "    x = np.dot(P,x)\n",
        "  return x"
      ],
      "metadata": {
        "id": "2l86tR7HXRUB"
      },
      "execution_count": 33,
      "outputs": []
    },
    {
      "cell_type": "markdown",
      "source": [
        "Consider x vector as the probability of landing on a certain page"
      ],
      "metadata": {
        "id": "5x4HyoZxeZxh"
      }
    },
    {
      "cell_type": "markdown",
      "source": [
        "Qn 1: Let’s say you start on Page 1, and then depending on this matrix, you move to the next page. Repeat this process, say a hundred times. How would the composition of vector x look ?"
      ],
      "metadata": {
        "id": "8fHUbmG9X_K6"
      }
    },
    {
      "cell_type": "code",
      "source": [
        "n = 100\n",
        "x_page1 = [1, 0, 0, 0]\n",
        "new_x1 = page_transition(P, x_page1, n)\n",
        "print(\"After 100 iterations, probabilities of landing on each page\")\n",
        "for i in range(len(new_x1)):\n",
        "  print(f\"Page {i+1}:{new_x1[i]}\")"
      ],
      "metadata": {
        "colab": {
          "base_uri": "https://localhost:8080/"
        },
        "id": "x1EYxi6OXW46",
        "outputId": "72f2ff52-c6be-48e2-8b70-d48b33ad3e57"
      },
      "execution_count": 35,
      "outputs": [
        {
          "output_type": "stream",
          "name": "stdout",
          "text": [
            "After 100 iterations, probabilities of landing on each page\n",
            "Page 1:0.3870967741935477\n",
            "Page 2:0.1290322580645159\n",
            "Page 3:0.2903225806451608\n",
            "Page 4:0.19354838709677386\n",
            "[0.38709677 0.12903226 0.29032258 0.19354839]\n"
          ]
        }
      ]
    },
    {
      "cell_type": "markdown",
      "source": [
        "Qn 2: Let’s say you start on Page 3, and then depending on this matrix, you move to the next page. Repeat this process, say\n",
        "a hundred times. How would the composition of vector x look ?"
      ],
      "metadata": {
        "id": "GRHqpmkuePkC"
      }
    },
    {
      "cell_type": "code",
      "source": [
        "n = 100\n",
        "x_page1 = [0, 0, 1, 0]\n",
        "new_x1 = page_transition(P, x_page1, n)\n",
        "print(\"After 100 iterations, probabilities of landing on each page\")\n",
        "for i in range(len(new_x1)):\n",
        "  print(f\"Page {i+1}:{new_x1[i]}\")"
      ],
      "metadata": {
        "colab": {
          "base_uri": "https://localhost:8080/"
        },
        "id": "KSfPi5z-efpc",
        "outputId": "f236bb38-5a1d-4b37-d362-edcf66c3ec37"
      },
      "execution_count": 36,
      "outputs": [
        {
          "output_type": "stream",
          "name": "stdout",
          "text": [
            "After 100 iterations, probabilities of landing on each page\n",
            "Page 1:0.3870967741935477\n",
            "Page 2:0.1290322580645159\n",
            "Page 3:0.2903225806451608\n",
            "Page 4:0.19354838709677386\n"
          ]
        }
      ]
    },
    {
      "cell_type": "markdown",
      "source": [
        "##X is called steady-state vector and this is equal to the scaled eigen vector of previous assignment"
      ],
      "metadata": {
        "id": "0aQvBDzreqC8"
      }
    },
    {
      "cell_type": "code",
      "source": [],
      "metadata": {
        "id": "Z6-FmSjvez62"
      },
      "execution_count": null,
      "outputs": []
    }
  ]
}