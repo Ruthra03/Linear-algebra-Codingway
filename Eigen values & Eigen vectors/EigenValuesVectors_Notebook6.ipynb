{
  "cells": [
    {
      "cell_type": "code",
      "source": [
        "import numpy as np\n",
        "# Matrix with dangling node\n",
        "A = np.array([[0, 1/2, 0, 0, 0, 0, 0],\n",
        "              [0, 0, 1/3, 0, 1/2, 0, 0],\n",
        "              [1, 0, 0, 0, 0, 1/3, 0],\n",
        "              [0, 0, 1/3, 1, 0, 0, 0],\n",
        "              [0, 1/2, 0, 0, 0, 1/3, 0],\n",
        "              [0, 0, 1/3, 0, 1/2, 0, 0],\n",
        "              [0, 0, 0, 0, 0, 1/3, 1]])"
      ],
      "metadata": {
        "id": "wMI1MKnGfdx6"
      },
      "execution_count": 13,
      "outputs": []
    },
    {
      "cell_type": "markdown",
      "source": [
        "No links from page4 and page7\n",
        "\n",
        "**Issue**:\n",
        "\n",
        "Dangling nodes:Pages with no outbound links.\n"
      ],
      "metadata": {
        "id": "6DkZVcYdmUUR"
      }
    },
    {
      "cell_type": "code",
      "source": [
        "num_of_rows = len(A) # Find the dangling node and replace the entire column with 1/num_of_rows( equal probability to move to any page )\n",
        "for i in range(num_of_rows):\n",
        "    if A[i][i] == 1:\n",
        "        for j in range(num_of_rows):\n",
        "            A[j][i] = 1/num_of_rows\n",
        "\n",
        "print(A) # Adjusted transition matrix\n"
      ],
      "metadata": {
        "colab": {
          "base_uri": "https://localhost:8080/"
        },
        "id": "GilhNnQqmHru",
        "outputId": "c1980e95-3f2e-4614-9fcc-151103953630"
      },
      "execution_count": 16,
      "outputs": [
        {
          "output_type": "stream",
          "name": "stdout",
          "text": [
            "[[0.         0.5        0.         0.14285714 0.         0.\n",
            "  0.14285714]\n",
            " [0.         0.         0.33333333 0.14285714 0.5        0.\n",
            "  0.14285714]\n",
            " [1.         0.         0.         0.14285714 0.         0.33333333\n",
            "  0.14285714]\n",
            " [0.         0.         0.33333333 0.14285714 0.         0.\n",
            "  0.14285714]\n",
            " [0.         0.5        0.         0.14285714 0.         0.33333333\n",
            "  0.14285714]\n",
            " [0.         0.         0.33333333 0.14285714 0.5        0.\n",
            "  0.14285714]\n",
            " [0.         0.         0.         0.14285714 0.         0.33333333\n",
            "  0.14285714]]\n"
          ]
        }
      ]
    },
    {
      "cell_type": "markdown",
      "source": [
        "**Issue:** Loops in the web graph(If page j is linked only to page i and page i linked only to page j)"
      ],
      "metadata": {
        "id": "jVU9w9g0oBsZ"
      }
    },
    {
      "cell_type": "markdown",
      "source": [
        "##**Solution**\n",
        "\n",
        "####1.Transition matrix: Introduce Random Transition Probability (H) where every element is 1/𝑛, ensuring equal probability of teleportation to any page. Adjust the transition matrix (A) by combining it with Random Transition Probability."
      ],
      "metadata": {
        "id": "JiOybgizoe41"
      }
    },
    {
      "cell_type": "markdown",
      "source": [
        "2.Construct Google matrix:\n",
        "Teleportation: ((1 - p) * H): Randomly jumping to any page with probability (1 - p), ensuring uniform distribution.\n",
        "\n",
        "Link Navigation: (p * A): Following links with probability ( p ) based on PageRank scores and link structure represented by matrix ( A ).\n",
        "\n",
        "Equation: G = (1 - p) * H + (p * A)"
      ],
      "metadata": {
        "id": "ysWBd0nFpMeY"
      }
    },
    {
      "cell_type": "code",
      "source": [
        "p = 0.8\n",
        "\n",
        "H = (1/num_of_rows)*np.ones((num_of_rows, num_of_rows))\n",
        "G = (1 - p)*H + p*A #The Google matrix\n",
        "print(\"Google Matrix:\\n\",G)\n"
      ],
      "metadata": {
        "colab": {
          "base_uri": "https://localhost:8080/"
        },
        "id": "iac4XrlinoP6",
        "outputId": "3b4e504e-10a3-45b1-f710-7dfa48ce53b2"
      },
      "execution_count": 18,
      "outputs": [
        {
          "output_type": "stream",
          "name": "stdout",
          "text": [
            "Google Matrix:\n",
            " [[0.02857143 0.42857143 0.02857143 0.14285714 0.02857143 0.02857143\n",
            "  0.14285714]\n",
            " [0.02857143 0.02857143 0.2952381  0.14285714 0.42857143 0.02857143\n",
            "  0.14285714]\n",
            " [0.82857143 0.02857143 0.02857143 0.14285714 0.02857143 0.2952381\n",
            "  0.14285714]\n",
            " [0.02857143 0.02857143 0.2952381  0.14285714 0.02857143 0.02857143\n",
            "  0.14285714]\n",
            " [0.02857143 0.42857143 0.02857143 0.14285714 0.02857143 0.2952381\n",
            "  0.14285714]\n",
            " [0.02857143 0.02857143 0.2952381  0.14285714 0.42857143 0.02857143\n",
            "  0.14285714]\n",
            " [0.02857143 0.02857143 0.02857143 0.14285714 0.02857143 0.2952381\n",
            "  0.14285714]]\n"
          ]
        }
      ]
    },
    {
      "cell_type": "code",
      "source": [
        "def steady_state_vector(G, x, n):\n",
        "  for i in range(n):\n",
        "    x = np.dot(G,x)\n",
        "  return x"
      ],
      "metadata": {
        "id": "iRdp5PwCqwur"
      },
      "execution_count": 19,
      "outputs": []
    },
    {
      "cell_type": "code",
      "source": [
        "initial_vector = np.array([1, 0, 0, 0, 0, 0, 0]) # Start navigating from page1\n",
        "rank_of_pages = steady_state_vector(G, initial_vector, n=50)"
      ],
      "metadata": {
        "id": "D5Y4hgKGqSRH"
      },
      "execution_count": 26,
      "outputs": []
    },
    {
      "cell_type": "code",
      "source": [
        "print(rank_of_pages)"
      ],
      "metadata": {
        "colab": {
          "base_uri": "https://localhost:8080/"
        },
        "id": "BjZO_QsKrHHC",
        "outputId": "ebdcbd0b-b223-47c8-e1a7-0d68b927bce6"
      },
      "execution_count": 27,
      "outputs": [
        {
          "output_type": "stream",
          "name": "stdout",
          "text": [
            "[0.11774064 0.16656953 0.18972388 0.10170586 0.16215918 0.16656953\n",
            " 0.09553137]\n"
          ]
        }
      ]
    },
    {
      "cell_type": "code",
      "source": [
        "print(\"Rank of pages:\")\n",
        "for i in range(len(rank_of_pages)):\n",
        "  print(f\"page{i+1}: {rank_of_pages[i]}\")"
      ],
      "metadata": {
        "colab": {
          "base_uri": "https://localhost:8080/"
        },
        "id": "J2klI2GirN71",
        "outputId": "992e0def-87f2-48e5-b05f-64a56ef87723"
      },
      "execution_count": 28,
      "outputs": [
        {
          "output_type": "stream",
          "name": "stdout",
          "text": [
            "Rank of pages:\n",
            "page1: 0.11774063981602528\n",
            "page2: 0.16656953392033008\n",
            "page3: 0.18972388047946817\n",
            "page4: 0.10170586104241809\n",
            "page5: 0.16215918219477998\n",
            "page6: 0.16656953392033008\n",
            "page7: 0.09553136862664793\n"
          ]
        }
      ]
    }
  ],
  "metadata": {
    "colab": {
      "provenance": []
    },
    "kernelspec": {
      "display_name": "Python 3",
      "name": "python3"
    },
    "language_info": {
      "name": "python"
    }
  },
  "nbformat": 4,
  "nbformat_minor": 0
}