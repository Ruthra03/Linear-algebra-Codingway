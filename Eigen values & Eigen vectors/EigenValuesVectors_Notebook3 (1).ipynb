{
  "nbformat": 4,
  "nbformat_minor": 0,
  "metadata": {
    "colab": {
      "provenance": []
    },
    "kernelspec": {
      "name": "python3",
      "display_name": "Python 3"
    },
    "language_info": {
      "name": "python"
    }
  },
  "cells": [
    {
      "cell_type": "code",
      "source": [
        "import numpy as np\n"
      ],
      "metadata": {
        "id": "VVAG_TihJuaP"
      },
      "execution_count": 9,
      "outputs": []
    },
    {
      "cell_type": "code",
      "execution_count": 15,
      "metadata": {
        "id": "xhDx0sB2Hcov"
      },
      "outputs": [],
      "source": [
        "def matrix_multiply(matrix1, matrix2):\n",
        "    if len(matrix1[0]) != len(matrix2):\n",
        "        print(\"Number of columns in the first matrix and the number of rows in the second matrix should be same\")\n",
        "        return\n",
        "\n",
        "    result = []\n",
        "    for i in range(len(matrix1)): # Iterate through each row of the first matrix\n",
        "        row = []\n",
        "        for j in range(len(matrix2[0])): # Iterate through each column of the second matrix\n",
        "            element = 0\n",
        "            # Iterate through each element of the corresponding row in the first matrix\n",
        "            # and the corresponding column in the second matrix, and compute the dot product\n",
        "            for k in range(len(matrix2)):\n",
        "                element += matrix1[i][k] * matrix2[k][j]\n",
        "            row.append(element)\n",
        "        result.append(row)\n",
        "\n",
        "    return result"
      ]
    },
    {
      "cell_type": "code",
      "source": [
        "def determinant(matrix):\n",
        "    if len(matrix) == 1: # If the matrix is 1x1, return its single element\n",
        "      return matrix[0][0]\n",
        "    if len(matrix) == 2: # If the matrix is 2x2, return the determinant directly\n",
        "      return matrix[0][0] * matrix[1][1] - matrix[0][1] * matrix[1][0]\n",
        "    det = 0\n",
        "    for j in range(len(matrix[0])):  # Iterate over the columns\n",
        "        sub_matrix = [row[:j] + row[j+1:] for row in matrix[1:]] # Exclude the first row and the jth column\n",
        "        det += (-1) ** j * matrix[0][j] * determinant(sub_matrix) # Find determinant\n",
        "    return det"
      ],
      "metadata": {
        "id": "ZAR0FxMJJluX"
      },
      "execution_count": 5,
      "outputs": []
    },
    {
      "cell_type": "code",
      "source": [
        "def transpose(matrix):\n",
        "    rows = len(matrix)\n",
        "    cols = len(matrix[0])\n",
        "    transposed = [[0] * rows for _ in range(cols)]\n",
        "    for i in range(rows):\n",
        "        for j in range(cols):\n",
        "            transposed[j][i] = matrix[i][j]\n",
        "    return transposed"
      ],
      "metadata": {
        "id": "9ojdmw-EJfXK"
      },
      "execution_count": 6,
      "outputs": []
    },
    {
      "cell_type": "code",
      "source": [
        "def matrix_minor(matrix, row, col):\n",
        "    # Function to find the minor of a matrix\n",
        "    return [row[:col] + row[col+1:] for row in (matrix[:row] + matrix[row+1:])]\n",
        "\n",
        "def adjoint(matrix):\n",
        "    adjoint_matrix = []\n",
        "    for row in range(len(matrix)): # Iterate through each row of the matrix\n",
        "        cofactor_row = []\n",
        "        for col in range(len(matrix)):\n",
        "            minor = matrix_minor(matrix, row, col) # Exclude the specified row and column\n",
        "            cofactor_row.append(((-1) ** (row + col)) * determinant(minor))\n",
        "        adjoint_matrix.append(cofactor_row)\n",
        "    return adjoint_matrix"
      ],
      "metadata": {
        "id": "ErwoxVXUJcyD"
      },
      "execution_count": 7,
      "outputs": []
    },
    {
      "cell_type": "markdown",
      "source": [
        "##A^-1 = (adj A)/(det A)"
      ],
      "metadata": {
        "id": "S5DHQRNrNN1n"
      }
    },
    {
      "cell_type": "code",
      "source": [
        "def inverse(matrix):\n",
        "    # Function to find the inverse of a matrix\n",
        "    det = determinant(matrix)\n",
        "    if det == 0:\n",
        "        return None  # Matrix is singular, no inverse exists\n",
        "    adjoint_A = adjoint(matrix)\n",
        "    transposed_cofactor = transpose(adjoint_A)\n",
        "    inverse_mat = [[element / det for element in row] for row in transposed_cofactor]\n",
        "    return inverse_mat"
      ],
      "metadata": {
        "id": "0JZTmjMDJNGY"
      },
      "execution_count": 8,
      "outputs": []
    },
    {
      "cell_type": "code",
      "source": [
        "A = [[0,1,2],[1,0,3],[4,-3,8]]\n",
        "print(np.array(A))\n",
        "A_inv = inverse(A)\n",
        "print(np.array(A_inv))"
      ],
      "metadata": {
        "colab": {
          "base_uri": "https://localhost:8080/"
        },
        "id": "MmiaOQjWJoQi",
        "outputId": "14eed516-d7f3-439e-fd15-da6ba39b108b"
      },
      "execution_count": 17,
      "outputs": [
        {
          "output_type": "stream",
          "name": "stdout",
          "text": [
            "[[ 0  1  2]\n",
            " [ 1  0  3]\n",
            " [ 4 -3  8]]\n",
            "[[-4.5  7.  -1.5]\n",
            " [-2.   4.  -1. ]\n",
            " [ 1.5 -2.   0.5]]\n"
          ]
        }
      ]
    },
    {
      "cell_type": "code",
      "source": [
        "result = matrix_multiply(A,A_inv)\n",
        "print(np.array(result))"
      ],
      "metadata": {
        "colab": {
          "base_uri": "https://localhost:8080/"
        },
        "id": "6t9T6wf2J5fs",
        "outputId": "ccb6e43d-bac4-43c6-8544-9cc2e5d5a1a0"
      },
      "execution_count": 18,
      "outputs": [
        {
          "output_type": "stream",
          "name": "stdout",
          "text": [
            "[[1. 0. 0.]\n",
            " [0. 1. 0.]\n",
            " [0. 0. 1.]]\n"
          ]
        }
      ]
    },
    {
      "cell_type": "code",
      "source": [],
      "metadata": {
        "id": "zNGwvPRBMdur"
      },
      "execution_count": null,
      "outputs": []
    }
  ]
}