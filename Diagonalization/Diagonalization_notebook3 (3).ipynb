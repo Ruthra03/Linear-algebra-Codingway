{
  "nbformat": 4,
  "nbformat_minor": 0,
  "metadata": {
    "colab": {
      "provenance": []
    },
    "kernelspec": {
      "name": "python3",
      "display_name": "Python 3"
    },
    "language_info": {
      "name": "python"
    }
  },
  "cells": [
    {
      "cell_type": "code",
      "execution_count": null,
      "metadata": {
        "id": "cmmw6La-6HwQ"
      },
      "outputs": [],
      "source": [
        "import numpy as np"
      ]
    },
    {
      "cell_type": "code",
      "source": [
        "def determinant(matrix):    # Base case: if the matrix is 1x1, return its single element\n",
        "    if len(matrix) == 1:        return matrix[0][0]\n",
        "        # Base case: if the matrix is 2x2, return the determinant directly\n",
        "    if len(matrix) == 2:        return matrix[0][0] * matrix[1][1] - matrix[0][1] * matrix[1][0]\n",
        "    det = 0\n",
        "    for j in range(len(matrix[0])):  # Iterate over the columns        # Exclude the first row and the jth column\n",
        "        sub_matrix = [row[:j] + row[j+1:] for row in matrix[1:]]        # Recursive call to compute the determinant of the sub-matrix\n",
        "        det += (-1) ** j * matrix[0][j] * determinant(sub_matrix)\n",
        "    return det"
      ],
      "metadata": {
        "id": "sGephLqi_JG7"
      },
      "execution_count": null,
      "outputs": []
    },
    {
      "cell_type": "code",
      "source": [
        "def matrix_multiply(matrix1, matrix2):\n",
        "    if len(matrix1[0]) != len(matrix2):\n",
        "        raise ValueError(\"Number of columns in the first matrix must be equal to the number of rows in the second matrix.\")\n",
        "\n",
        "    result = []\n",
        "    for i in range(len(matrix1)):\n",
        "        row = []\n",
        "        for j in range(len(matrix2[0])):\n",
        "            element = 0\n",
        "            for k in range(len(matrix2)):\n",
        "                element += matrix1[i][k] * matrix2[k][j]\n",
        "            row.append(element)\n",
        "        result.append(row)\n",
        "\n",
        "    return result"
      ],
      "metadata": {
        "id": "_omYPCRO_Mm8"
      },
      "execution_count": null,
      "outputs": []
    },
    {
      "cell_type": "code",
      "source": [
        "def transpose(matrix):\n",
        "    # Function to transpose a matrix\n",
        "    rows = len(matrix)\n",
        "    cols = len(matrix[0])\n",
        "    transposed = [[0] * rows for _ in range(cols)]\n",
        "    for i in range(rows):\n",
        "        for j in range(cols):\n",
        "            transposed[j][i] = matrix[i][j]\n",
        "    return transposed"
      ],
      "metadata": {
        "id": "PejuBWzbFv9S"
      },
      "execution_count": null,
      "outputs": []
    },
    {
      "cell_type": "code",
      "source": [
        "def matrix_minor(matrix, row, col):\n",
        "    # Function to find the minor of a matrix\n",
        "    return [row[:col] + row[col+1:] for row in (matrix[:row] + matrix[row+1:])]\n",
        "\n",
        "def cofactor(matrix):\n",
        "    # Function to find the cofactor of a matrix\n",
        "    cofactor_matrix = []\n",
        "    for row in range(len(matrix)):\n",
        "        cofactor_row = []\n",
        "        for col in range(len(matrix)):\n",
        "            minor = matrix_minor(matrix, row, col)\n",
        "            cofactor_row.append(((-1) ** (row + col)) * determinant(minor))\n",
        "        cofactor_matrix.append(cofactor_row)\n",
        "    return cofactor_matrix"
      ],
      "metadata": {
        "id": "YqoaHkBNF2rq"
      },
      "execution_count": null,
      "outputs": []
    },
    {
      "cell_type": "code",
      "source": [
        "def inverse(matrix):\n",
        "    # Function to find the inverse of a matrix\n",
        "    det = determinant(matrix)\n",
        "    if det == 0:\n",
        "        return None  # Matrix is singular, no inverse exists\n",
        "    cofactor_mat = cofactor(matrix)\n",
        "    transposed_cofactor = transpose(cofactor_mat)\n",
        "    inverse_mat = [[element / det for element in row] for row in transposed_cofactor]\n",
        "    return inverse_mat"
      ],
      "metadata": {
        "id": "IhMRvJFSF-gm"
      },
      "execution_count": null,
      "outputs": []
    },
    {
      "cell_type": "code",
      "source": [],
      "metadata": {
        "id": "l5h8gSg5CKQd"
      },
      "execution_count": null,
      "outputs": []
    },
    {
      "cell_type": "code",
      "source": [
        "A = np.array([[1, 3, 3],\n",
        "             [-3, 5, 3],\n",
        "             [3, 3, 1]])\n",
        "dim = len(A)\n",
        "eig_val, eig_vec = np.linalg.eig(A)\n",
        "\n",
        "P = eig_vec\n",
        "P = P.tolist()\n",
        "\n",
        "D = np.eye(dim)\n",
        "for i in range(dim):\n",
        "    D[i][i] = eig_val[i]\n",
        "\n",
        "P_inv = inverse(P)\n",
        "\n",
        "result = matrix_multiply(P, matrix_multiply(D, P_inv))\n",
        "\n",
        "def round_matrix(matrix, decimal_places=2):\n",
        "    rounded_matrix = [[round(element, decimal_places) for element in row] for row in matrix]\n",
        "    return rounded_matrix\n",
        "\n",
        "result = np.array(round_matrix(result))"
      ],
      "metadata": {
        "id": "lWqplbfu_pqd"
      },
      "execution_count": null,
      "outputs": []
    },
    {
      "cell_type": "markdown",
      "source": [
        "# A = PDP^-1"
      ],
      "metadata": {
        "id": "zO_f6hEMHZD-"
      }
    },
    {
      "cell_type": "code",
      "source": [
        "print(A)"
      ],
      "metadata": {
        "colab": {
          "base_uri": "https://localhost:8080/"
        },
        "id": "kq4oztFSBBfj",
        "outputId": "7630bd12-514c-4a28-e517-c945e717da03"
      },
      "execution_count": null,
      "outputs": [
        {
          "output_type": "stream",
          "name": "stdout",
          "text": [
            "[[ 1  3  3]\n",
            " [-3  5  3]\n",
            " [ 3  3  1]]\n"
          ]
        }
      ]
    },
    {
      "cell_type": "code",
      "source": [
        "print(result)"
      ],
      "metadata": {
        "colab": {
          "base_uri": "https://localhost:8080/"
        },
        "id": "82_bD9bsHRoE",
        "outputId": "f5033f13-6e11-42e9-f813-ca3ee06c450d"
      },
      "execution_count": null,
      "outputs": [
        {
          "output_type": "stream",
          "name": "stdout",
          "text": [
            "[[ 1.  3.  3.]\n",
            " [-3.  5.  3.]\n",
            " [ 3.  3.  1.]]\n"
          ]
        }
      ]
    },
    {
      "cell_type": "markdown",
      "source": [
        "# Columns of P are independent"
      ],
      "metadata": {
        "id": "qcwStQ_RH5qy"
      }
    },
    {
      "cell_type": "code",
      "source": [
        "x = determinant(result.tolist())\n",
        "print(x)"
      ],
      "metadata": {
        "colab": {
          "base_uri": "https://localhost:8080/"
        },
        "id": "fPxzkuq-HTeO",
        "outputId": "b617aac3-1ca3-4eb1-caec-b0e8cbc5ff65"
      },
      "execution_count": null,
      "outputs": [
        {
          "output_type": "stream",
          "name": "stdout",
          "text": [
            "-40.0\n"
          ]
        }
      ]
    },
    {
      "cell_type": "code",
      "source": [],
      "metadata": {
        "id": "NMjgTmjJHll-"
      },
      "execution_count": null,
      "outputs": []
    }
  ]
}